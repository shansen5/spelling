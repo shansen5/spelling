{
 "cells": [
  {
   "cell_type": "code",
   "execution_count": 36,
   "metadata": {},
   "outputs": [
    {
     "name": "stdout",
     "output_type": "stream",
     "text": [
      "Not running on CoLab\n"
     ]
    }
   ],
   "source": [
    "if 'google.colab' in str(get_ipython()):\n",
    "    print('Running on CoLab')\n",
    "    !pip install english_words &>/dev/null;\n",
    "    !pip install PyDictionary &>/dev/null;\n",
    "    !pip install nltk &>/dev/null;\n",
    "    import nltk\n",
    "    nltk.download()\n",
    "    # choose 'words'\n",
    "else:\n",
    "    print('Not running on CoLab')\n"
   ]
  },
  {
   "cell_type": "code",
   "execution_count": 1,
   "metadata": {},
   "outputs": [],
   "source": [
    "from nltk.corpus import words\n",
    "word_list = words.words()\n",
    "from english_words import english_words_set\n",
    "from PyDictionary import PyDictionary\n",
    "dict = PyDictionary()\n"
   ]
  },
  {
   "cell_type": "code",
   "execution_count": 2,
   "metadata": {},
   "outputs": [],
   "source": [
    "def add_letter(word, length, letters, must, printAll=False, tryPy=False):\n",
    "    if letters and len(word) < length:\n",
    "        for letter in letters:\n",
    "            new_word = word + letter\n",
    "            add_letter(new_word, length, letters, must, printAll, tryPy)\n",
    "    else:\n",
    "        if must in word:\n",
    "            if printAll:\n",
    "                print(word)\n",
    "            if word in english_words_set:\n",
    "                print('{} is a word - english_words'.format(word))\n",
    "            elif word in word_list:\n",
    "                print('{} is a word - nltk.corpus'.format(word))\n",
    "            elif tryPy:\n",
    "                meaning = dict.meaning(word, True)\n",
    "                if meaning is not None:\n",
    "                    print( '{} - {}'.format(word,meaning))                \n",
    "        return"
   ]
  },
  {
   "cell_type": "code",
   "execution_count": 34,
   "metadata": {
    "scrolled": true
   },
   "outputs": [],
   "source": [
    "\n",
    "letters = 'tahmnop'\n",
    "prefix = 'maha'\n",
    "must = 't'\n",
    "length = 9\n",
    "\n",
    "add_letter(prefix, length, letters, must, printAll=False, tryPy=False)"
   ]
  },
  {
   "cell_type": "code",
   "execution_count": 28,
   "metadata": {},
   "outputs": [
    {
     "name": "stdout",
     "output_type": "stream",
     "text": [
      "tapa - {'Noun': ['the thin fibrous bark of the paper mulberry and Pipturus albidus', 'a paperlike cloth made in the South Pacific by pounding tapa bark']}\n"
     ]
    }
   ],
   "source": [
    "word = 'tapa'\n",
    "meaning = dict.meaning(word, True)\n",
    "if meaning is not None:\n",
    "    print( '{} - {}'.format(word,meaning))\n",
    "else:\n",
    "    print(\"{} is not in the dictionary\".format(word))"
   ]
  },
  {
   "cell_type": "code",
   "execution_count": null,
   "metadata": {},
   "outputs": [],
   "source": []
  }
 ],
 "metadata": {
  "kernelspec": {
   "display_name": "Python 3",
   "language": "python",
   "name": "python3"
  },
  "language_info": {
   "codemirror_mode": {
    "name": "ipython",
    "version": 3
   },
   "file_extension": ".py",
   "mimetype": "text/x-python",
   "name": "python",
   "nbconvert_exporter": "python",
   "pygments_lexer": "ipython3",
   "version": "3.8.5"
  }
 },
 "nbformat": 4,
 "nbformat_minor": 4
}
