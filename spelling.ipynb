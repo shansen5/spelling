{
 "cells": [
  {
   "cell_type": "code",
   "execution_count": 1,
   "metadata": {},
   "outputs": [],
   "source": [
    "from nltk.corpus import words\n",
    "word_list = words.words()\n",
    "from english_words import english_words_set\n",
    "from PyDictionary import PyDictionary\n",
    "dict = PyDictionary()\n"
   ]
  },
  {
   "cell_type": "code",
   "execution_count": 2,
   "metadata": {},
   "outputs": [],
   "source": [
    "def add_letter(word, length, letters, must, printAll=False, tryPy=False):\n",
    "    if letters and len(word) < length:\n",
    "        for letter in letters:\n",
    "            new_word = word + letter\n",
    "            add_letter(new_word, length, letters, must, printAll, tryPy)\n",
    "    else:\n",
    "        if must in word:\n",
    "            if printAll:\n",
    "                print(word)\n",
    "            if word in english_words_set:\n",
    "                print('{} is a word - english_words'.format(word))\n",
    "            elif word in word_list:\n",
    "                print('{} is a word - ntlk.corpus'.format(word))\n",
    "            elif tryPy:\n",
    "                meaning = dict.meaning(word, True)\n",
    "                if meaning is not None:\n",
    "                    print( '{} - {}'.format(word,meaning))                \n",
    "        return"
   ]
  },
  {
   "cell_type": "code",
   "execution_count": null,
   "metadata": {},
   "outputs": [],
   "source": []
  },
  {
   "cell_type": "code",
   "execution_count": 8,
   "metadata": {
    "scrolled": true
   },
   "outputs": [
    {
     "name": "stdout",
     "output_type": "stream",
     "text": [
      "naan - {'Noun': ['leavened bread baked in a clay oven in India; usually shaped like a teardrop']}\n",
      "nada - {'Noun': ['a quantity of no importance']}\n",
      "naha - {'Noun': ['a Hebrew minor prophet of the 7th century BC', \"an Old Testament book telling Nahum's prophecy of the fall of Nineveh\"]}\n",
      "nana is a word - ntlk.corpus\n",
      "nant is a word - ntlk.corpus\n",
      "nato - {'Noun': ['an international organization created in 1949 by the North Atlantic Treaty for purposes of collective security']}\n",
      "naut is a word - ntlk.corpus\n"
     ]
    }
   ],
   "source": [
    "\n",
    "\n",
    "letters = 'adhnotu'\n",
    "prefix = 'na'\n",
    "must = 'a'\n",
    "length = 4\n",
    "\n",
    "add_letter(prefix, length, letters, must, printAll=False, tryPy=False)"
   ]
  },
  {
   "cell_type": "code",
   "execution_count": 16,
   "metadata": {},
   "outputs": [
    {
     "name": "stdout",
     "output_type": "stream",
     "text": [
      "daylily - {'Noun': ['any of numerous perennials having tuberous roots and long narrow bladelike leaves and usually yellow lily-like flowers that bloom for only a day']}\n"
     ]
    }
   ],
   "source": [
    "word = 'daylily'\n",
    "meaning = dict.meaning(word, True)\n",
    "if meaning is not None:\n",
    "    print( '{} - {}'.format(word,meaning))\n",
    "else:\n",
    "    print(\"{} is not in the dictionary\".format(word))"
   ]
  },
  {
   "cell_type": "code",
   "execution_count": null,
   "metadata": {},
   "outputs": [],
   "source": []
  }
 ],
 "metadata": {
  "kernelspec": {
   "display_name": "Python 3",
   "language": "python",
   "name": "python3"
  },
  "language_info": {
   "codemirror_mode": {
    "name": "ipython",
    "version": 3
   },
   "file_extension": ".py",
   "mimetype": "text/x-python",
   "name": "python",
   "nbconvert_exporter": "python",
   "pygments_lexer": "ipython3",
   "version": "3.8.5"
  }
 },
 "nbformat": 4,
 "nbformat_minor": 4
}
