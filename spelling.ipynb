{
 "cells": [
  {
   "cell_type": "code",
   "execution_count": 1,
   "metadata": {},
   "outputs": [
    {
     "name": "stdout",
     "output_type": "stream",
     "text": [
      "Not running on CoLab\n"
     ]
    }
   ],
   "source": [
    "if 'google.colab' in str(get_ipython()):\n",
    "    print('Running on CoLab')\n",
    "    !pip install english-words \n",
    "    !pip install PyDictionary \n",
    "    !pip install nltk \n",
    "    import nltk\n",
    "    nltk.download()\n",
    "    # choose 'words'\n",
    "else:\n",
    "    print('Not running on CoLab')\n"
   ]
  },
  {
   "cell_type": "code",
   "execution_count": 2,
   "metadata": {},
   "outputs": [],
   "source": [
    "from nltk.corpus import words\n",
    "word_list = words.words()\n",
    "from english_words import get_english_words_set\n",
    "from PyDictionary import PyDictionary\n",
    "\n",
    "english_words_set = get_english_words_set(['web2'], lower=True)\n",
    "dict = PyDictionary()\n"
   ]
  },
  {
   "cell_type": "code",
   "execution_count": 3,
   "metadata": {},
   "outputs": [],
   "source": [
    "def add_letter(word, length, letters, must, printAll=False, tryPy=False):\n",
    "    if letters and len(word) < length:\n",
    "        for letter in letters:\n",
    "            new_word = word + letter\n",
    "            add_letter(new_word, length, letters, must, printAll, tryPy)\n",
    "    else:\n",
    "        if must in word:\n",
    "            if printAll:\n",
    "                print(word)\n",
    "            if word in english_words_set:\n",
    "                print('{} is a word - english_words'.format(word))\n",
    "            elif word in word_list:\n",
    "                print('{} is a word - nltk.corpus'.format(word))\n",
    "            elif tryPy:\n",
    "                meaning = dict.meaning(word, True)\n",
    "                if meaning is not None:\n",
    "                    print( '{} - {}'.format(word,meaning))                \n",
    "        return"
   ]
  },
  {
   "cell_type": "code",
   "execution_count": 5,
   "metadata": {},
   "outputs": [
    {
     "name": "stdout",
     "output_type": "stream",
     "text": [
      "abbot\n",
      "allot\n"
     ]
    }
   ],
   "source": [
    "from IPython.core.debugger import Pdb\n",
    "must = 'ato'\n",
    "cannot = 'weryuisdfhcnm'\n",
    "word_length = 5\n",
    "positional = {0:'a', 3:'o'}\n",
    "not_positional = {1:'o', 2:'t'}\n",
    "for w in word_list:\n",
    "    debugging = False\n",
    "    if len(w) == word_length:\n",
    "        good = True\n",
    "        for c in must:\n",
    "            if c not in w:\n",
    "                good = False\n",
    "                break\n",
    "        if good:\n",
    "            for c in cannot:\n",
    "                if c in w:\n",
    "                    good = False\n",
    "                    break\n",
    "        if good:\n",
    "            for key, value in positional.items():\n",
    "                if w[key] != value:\n",
    "                    good = False\n",
    "                    break\n",
    "        if good:\n",
    "            for key, value in not_positional.items():\n",
    "                if w[key] == value:\n",
    "                    good = False\n",
    "                    break\n",
    "        if debugging:\n",
    "            Pdb().set_trace()\n",
    "        if good:\n",
    "            print(w)"
   ]
  },
  {
   "cell_type": "code",
   "execution_count": 13,
   "metadata": {
    "scrolled": true
   },
   "outputs": [
    {
     "name": "stdout",
     "output_type": "stream",
     "text": [
      "langi is a word - english_words\n",
      "layia is a word - english_words\n"
     ]
    }
   ],
   "source": [
    "\n",
    "letters = 'iaglnyz'\n",
    "prefix = 'la'\n",
    "must = 'i'\n",
    "length = 5\n",
    "\n",
    "add_letter(prefix, length, letters, must, printAll=False, tryPy=False)"
   ]
  },
  {
   "cell_type": "code",
   "execution_count": 7,
   "metadata": {},
   "outputs": [
    {
     "name": "stdout",
     "output_type": "stream",
     "text": [
      "pinniped - {'Noun': ['aquatic carnivorous mammal having a streamlined body specialized for swimming with limbs modified as flippers']}\n"
     ]
    }
   ],
   "source": [
    "word = 'pinniped'\n",
    "meaning = dict.meaning(word, True)\n",
    "if meaning is not None:\n",
    "    print( '{} - {}'.format(word,meaning))\n",
    "else:\n",
    "    print(\"{} is not in the dictionary\".format(word))"
   ]
  },
  {
   "cell_type": "code",
   "execution_count": null,
   "metadata": {},
   "outputs": [],
   "source": []
  }
 ],
 "metadata": {
  "kernelspec": {
   "display_name": "Python 3 (ipykernel)",
   "language": "python",
   "name": "python3"
  },
  "language_info": {
   "codemirror_mode": {
    "name": "ipython",
    "version": 3
   },
   "file_extension": ".py",
   "mimetype": "text/x-python",
   "name": "python",
   "nbconvert_exporter": "python",
   "pygments_lexer": "ipython3",
   "version": "3.11.2"
  }
 },
 "nbformat": 4,
 "nbformat_minor": 4
}
